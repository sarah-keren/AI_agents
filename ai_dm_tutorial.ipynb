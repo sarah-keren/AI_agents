{
  "nbformat": 4,
  "nbformat_minor": 0,
  "metadata": {
    "colab": {
      "provenance": []
    },
    "kernelspec": {
      "name": "python3",
      "display_name": "Python 3"
    },
    "language_info": {
      "name": "python"
    }
  },
  "cells": [
    {
      "cell_type": "markdown",
      "source": [
        "The following command installs our library"
      ],
      "metadata": {
        "id": "1uQ6veFK8Wa2"
      }
    },
    {
      "cell_type": "code",
      "execution_count": 28,
      "metadata": {
        "colab": {
          "base_uri": "https://localhost:8080/"
        },
        "id": "Z_y4xKsE51Nw",
        "outputId": "a600eccd-8d40-471a-8e17-394338359649"
      },
      "outputs": [
        {
          "output_type": "stream",
          "name": "stdout",
          "text": [
            "Looking in indexes: https://pypi.org/simple, https://us-python.pkg.dev/colab-wheels/public/simple/\n",
            "Collecting git+https://github.com/sarah-keren/ai_dm\n",
            "  Cloning https://github.com/sarah-keren/ai_dm to /tmp/pip-req-build-hvnnvwhw\n",
            "  Running command git clone -q https://github.com/sarah-keren/ai_dm /tmp/pip-req-build-hvnnvwhw\n",
            "  Installing build dependencies ... \u001b[?25l\u001b[?25hdone\n",
            "  Getting requirements to build wheel ... \u001b[?25l\u001b[?25hdone\n",
            "  Installing backend dependencies ... \u001b[?25l\u001b[?25hdone\n",
            "    Preparing wheel metadata ... \u001b[?25l\u001b[?25hdone\n",
            "Requirement already satisfied: pygame==2.1.2 in /usr/local/lib/python3.8/dist-packages (from AI-agents==0.0.0) (2.1.2)\n",
            "Requirement already satisfied: gym>=0.22.0 in /usr/local/lib/python3.8/dist-packages (from AI-agents==0.0.0) (0.25.2)\n",
            "Requirement already satisfied: cloudpickle>=1.2.0 in /usr/local/lib/python3.8/dist-packages (from gym>=0.22.0->AI-agents==0.0.0) (1.5.0)\n",
            "Requirement already satisfied: importlib-metadata>=4.8.0 in /usr/local/lib/python3.8/dist-packages (from gym>=0.22.0->AI-agents==0.0.0) (5.1.0)\n",
            "Requirement already satisfied: gym-notices>=0.0.4 in /usr/local/lib/python3.8/dist-packages (from gym>=0.22.0->AI-agents==0.0.0) (0.0.8)\n",
            "Requirement already satisfied: numpy>=1.18.0 in /usr/local/lib/python3.8/dist-packages (from gym>=0.22.0->AI-agents==0.0.0) (1.21.6)\n",
            "Requirement already satisfied: zipp>=0.5 in /usr/local/lib/python3.8/dist-packages (from importlib-metadata>=4.8.0->gym>=0.22.0->AI-agents==0.0.0) (3.11.0)\n"
          ]
        }
      ],
      "source": [
        "!pip install git+https://github.com/sarah-keren/ai_dm\n"
      ]
    },
    {
      "cell_type": "code",
      "source": [
        "!pip install gym\n"
      ],
      "metadata": {
        "colab": {
          "base_uri": "https://localhost:8080/"
        },
        "id": "Gb7vbCWjSW6w",
        "outputId": "00213cec-16bc-4a22-a038-f80f949aa8c0"
      },
      "execution_count": 29,
      "outputs": [
        {
          "output_type": "stream",
          "name": "stdout",
          "text": [
            "Looking in indexes: https://pypi.org/simple, https://us-python.pkg.dev/colab-wheels/public/simple/\n",
            "Requirement already satisfied: gym in /usr/local/lib/python3.8/dist-packages (0.25.2)\n",
            "Requirement already satisfied: importlib-metadata>=4.8.0 in /usr/local/lib/python3.8/dist-packages (from gym) (5.1.0)\n",
            "Requirement already satisfied: cloudpickle>=1.2.0 in /usr/local/lib/python3.8/dist-packages (from gym) (1.5.0)\n",
            "Requirement already satisfied: numpy>=1.18.0 in /usr/local/lib/python3.8/dist-packages (from gym) (1.21.6)\n",
            "Requirement already satisfied: gym-notices>=0.0.4 in /usr/local/lib/python3.8/dist-packages (from gym) (0.0.8)\n",
            "Requirement already satisfied: zipp>=0.5 in /usr/local/lib/python3.8/dist-packages (from importlib-metadata>=4.8.0->gym) (3.11.0)\n"
          ]
        }
      ]
    },
    {
      "cell_type": "markdown",
      "source": [
        "We will be working with Open Ai's Taxi domain that looks like this\n"
      ],
      "metadata": {
        "id": "Hm_e6WRm-oGY"
      }
    },
    {
      "cell_type": "code",
      "source": [
        "import gym\n",
        "\n",
        "env = gym.make(\"Taxi-v3\").env\n",
        "env.reset()\n",
        "print(env.render(mode='ansi'))"
      ],
      "metadata": {
        "colab": {
          "base_uri": "https://localhost:8080/"
        },
        "id": "AzvjeoJ7-sS0",
        "outputId": "d9ac826c-c8be-491e-e35b-41a001743419"
      },
      "execution_count": 30,
      "outputs": [
        {
          "output_type": "stream",
          "name": "stdout",
          "text": [
            "+---------+\n",
            "|\u001b[35mR\u001b[0m: | : :G|\n",
            "| : | : : |\n",
            "| : : : : |\n",
            "| | : | :\u001b[43m \u001b[0m|\n",
            "|\u001b[34;1mY\u001b[0m| : |B: |\n",
            "+---------+\n",
            "\n",
            "\n"
          ]
        }
      ]
    },
    {
      "cell_type": "markdown",
      "source": [
        "The filled square represents the taxi, which is yellow without a passenger and green with a passenger. The pipes (\"|\") represent walls which the taxi cannot traverse. R, G, Y, B are the possible pickup and destination locations. The passenger can also be in the taxi. The blue letter represents the current passenger pick-up location, and the purple letter is the current destination.\n",
        "\n",
        "The actions space is:\n",
        "\n",
        "0 = south 1 = north 2 = east 3 = west 4 = pickup 5 = dropoff\n",
        "\n",
        "The state encoding is as follows (play around with the values)"
      ],
      "metadata": {
        "id": "cChPK3m3-yx5"
      }
    },
    {
      "cell_type": "code",
      "metadata": {
        "id": "IvF8S_aLDaex",
        "colab": {
          "base_uri": "https://localhost:8080/"
        },
        "outputId": "024f46a3-da25-4514-9083-c80c599c96f2"
      },
      "source": [
        "state = env.encode(1, 3, 4, 1) # (taxi row, taxi column, passenger index, destination index)\n",
        "print(\"State:\", state)\n",
        "\n",
        "print(env.render(mode='ansi'))\n",
        "env.unwrapped.s = state\n",
        "print(env.render(mode='ansi'))"
      ],
      "execution_count": null,
      "outputs": [
        {
          "output_type": "stream",
          "name": "stdout",
          "text": [
            "State: 177\n",
            "+---------+\n",
            "|\u001b[34;1mR\u001b[0m: | : :G|\n",
            "| : | : : |\n",
            "| : : : : |\n",
            "| | :\u001b[43m \u001b[0m| : |\n",
            "|\u001b[35mY\u001b[0m| : |B: |\n",
            "+---------+\n",
            "\n",
            "\n",
            "+---------+\n",
            "|R: | : :\u001b[35mG\u001b[0m|\n",
            "| : | :\u001b[42m_\u001b[0m: |\n",
            "| : : : : |\n",
            "| | : | : |\n",
            "|Y| : |B: |\n",
            "+---------+\n",
            "\n",
            "\n"
          ]
        }
      ]
    },
    {
      "cell_type": "markdown",
      "source": [
        "Now let's import the GymProblem which will wrap the Taxi domain and the search methods we want to apply"
      ],
      "metadata": {
        "id": "aO9OZBTz9mWK"
      }
    },
    {
      "cell_type": "code",
      "source": [
        "import gym\n",
        "from ai_dm.Environments.gym_envs.gym_problem import GymProblem\n",
        "from ai_dm.Search.best_first_search import best_first_search, breadth_first_search, depth_first_search, a_star, depth_first_search_l\n",
        "import ai_dm.Search.utils as utils\n",
        "import ai_dm.Search.defs as defs\n",
        "import ai_dm.Search.heuristic as heuristic\n",
        "\n",
        "\n"
      ],
      "metadata": {
        "id": "9LwxqftZ56dt"
      },
      "execution_count": null,
      "outputs": []
    },
    {
      "cell_type": "markdown",
      "source": [
        "The following will create and recreate the taxi environment we want to explore"
      ],
      "metadata": {
        "id": "0fmQBRQQ_SoC"
      }
    },
    {
      "cell_type": "code",
      "source": [
        "def create_env():\n",
        "\n",
        "    # define the environment\n",
        "    taxi_env = gym.make(\"Taxi-v3\", render_mode='ansi').env\n",
        "    taxi_env.reset()\n",
        "    init_state = taxi_env.encode(0, 3, 4, 1)  # (taxi row, taxi column, passenger index, destination index)\n",
        "    taxi_row, taxi_col, pass_idx, dest_idx = taxi_env.decode(init_state)\n",
        "    print(taxi_row)\n",
        "    taxi_env.unwrapped.s = init_state\n",
        "    print(\"State:\", init_state)\n",
        "    print(env.render(mode='ansi'))\n",
        "    return taxi_env   \n"
      ],
      "metadata": {
        "id": "YcMY5uWD_EVq"
      },
      "execution_count": null,
      "outputs": []
    },
    {
      "cell_type": "markdown",
      "source": [
        "And now let's run Breadth First Search\n"
      ],
      "metadata": {
        "id": "gLwnkW4N-5fW"
      }
    },
    {
      "cell_type": "code",
      "source": [
        "taxi_env = create_env()\n",
        "\n",
        "# create a wrapper of the environment to the search\n",
        "taxi_p = GymProblem(taxi_env, taxi_env.unwrapped.s)\n",
        "\n",
        "\n",
        "# perform BFS\n",
        "[best_value, best_node, best_plan, explored_count, ex_terminated] = breadth_first_search(problem=taxi_p,\n",
        "                                                                                         log=True,\n",
        "                                                                                         log_file=None,\n",
        "                                                                                         iter_limit=defs.NA,\n",
        "                                                                                         time_limit=defs.NA,\n",
        "                                                                                        )\n",
        "\n",
        "\n",
        "print(best_plan)\n",
        "for action_id in best_plan:\n",
        "    print(taxi_env.step(int(action_id)))\n",
        "    taxi_p.apply_action(action_id)\n",
        "    print(taxi_p.env.render(mode='ansi'))\n"
      ],
      "metadata": {
        "colab": {
          "base_uri": "https://localhost:8080/"
        },
        "id": "B4xAGGAuA22S",
        "outputId": "0a3c9af0-e7bf-4369-8db0-e9d370fcf226"
      },
      "execution_count": null,
      "outputs": [
        {
          "output_type": "stream",
          "name": "stdout",
          "text": [
            "0\n",
            "State: 77\n",
            "+---------+\n",
            "|R: | : :\u001b[35mG\u001b[0m|\n",
            "| : | :\u001b[42m_\u001b[0m: |\n",
            "| : : : : |\n",
            "| | : | : |\n",
            "|Y| : |B: |\n",
            "+---------+\n",
            "\n",
            "\n",
            "best_first_design(node) node number 1 cur_node:<Node 77>\n",
            "InMethod best_first_design(node): explored_count:1 cur_node:<Node 77>, node_eval_time:0.000\n",
            "best_first_design(node) node number 2 cur_node:<Node 177>\n",
            "InMethod best_first_design(node): explored_count:2 cur_node:<Node 177>, node_eval_time:0.000\n",
            "best_first_design(node) node number 3 cur_node:<Node 97>\n",
            "InMethod best_first_design(node): explored_count:3 cur_node:<Node 97>, node_eval_time:0.000\n",
            "best_first_design(node) node number 4 cur_node:<Node 57>\n",
            "InMethod best_first_design(node): explored_count:4 cur_node:<Node 57>, node_eval_time:0.000\n",
            "best_first_design(node) node number 5 cur_node:<Node 277>\n",
            "InMethod best_first_design(node): explored_count:5 cur_node:<Node 277>, node_eval_time:0.000\n",
            "best_first_design(node) node number 6 cur_node:<Node 197>\n",
            "InMethod best_first_design(node): explored_count:6 cur_node:<Node 197>, node_eval_time:0.000\n",
            "best_first_design(node) node number 7 cur_node:<Node 157>\n",
            "InMethod best_first_design(node): explored_count:7 cur_node:<Node 157>, node_eval_time:0.000\n",
            "best_first_design(node) node number 8 cur_node:<Node 85>\n",
            "InMethod best_first_design(node): explored_count:8 cur_node:<Node 85>, node_eval_time:0.000\n",
            "solution is: ['2', '5']\n",
            "['2', '5']\n",
            "(97, -1, False, {'prob': 1.0, 'action_mask': array([1, 0, 0, 1, 0, 1], dtype=int8)})\n",
            "['+---------+\\n|R: | : :\\x1b[34;1mG\\x1b[0m|\\n| : | : : |\\n| : : : : |\\n| | : | : |\\n|\\x1b[43mY\\x1b[0m| : |\\x1b[35mB\\x1b[0m: |\\n+---------+\\n\\n', '+---------+\\n|R: | : :\\x1b[35m\\x1b[42mG\\x1b[0m\\x1b[0m|\\n| : | : : |\\n| : : : : |\\n| | : | : |\\n|Y| : |B: |\\n+---------+\\n  (East)\\n', '+---------+\\n|R: | : :\\x1b[35m\\x1b[42mG\\x1b[0m\\x1b[0m|\\n| : | : : |\\n| : : : : |\\n| | : | : |\\n|Y| : |B: |\\n+---------+\\n  (East)\\n']\n",
            "(85, 20, True, {'prob': 1.0, 'action_mask': array([1, 0, 0, 1, 1, 0], dtype=int8), 'TimeLimit.truncated': False})\n",
            "['+---------+\\n|R: | : :\\x1b[35m\\x1b[34;1m\\x1b[43mG\\x1b[0m\\x1b[0m\\x1b[0m|\\n| : | : : |\\n| : : : : |\\n| | : | : |\\n|Y| : |B: |\\n+---------+\\n  (Dropoff)\\n', '+---------+\\n|R: | : :\\x1b[35m\\x1b[34;1m\\x1b[43mG\\x1b[0m\\x1b[0m\\x1b[0m|\\n| : | : : |\\n| : : : : |\\n| | : | : |\\n|Y| : |B: |\\n+---------+\\n  (Dropoff)\\n']\n"
          ]
        }
      ]
    },
    {
      "cell_type": "markdown",
      "source": [
        "Let's see the same methods, but now with the explicit call to BestFirstSearch (which shows us how Breadth First Search is a special case of BestFirstSearch)"
      ],
      "metadata": {
        "id": "j-OTJpcX9-BH"
      }
    },
    {
      "cell_type": "code",
      "source": [
        "taxi_env = create_env()\n",
        "\n",
        "# create a wrapper of the environment to the search\n",
        "taxi_p = GymProblem(taxi_env, taxi_env.unwrapped.s)\n",
        "\n",
        "# perform BFS\n",
        "[best_value, best_node, best_plan, explored_count, ex_terminated] = best_first_search(problem=taxi_p,\n",
        "                                                                                      frontier=utils.FIFOQueue(),\n",
        "                                                                                      closed_list=utils.ClosedListOfKeys(),\n",
        "                                                                                      termination_criteria=utils.TerminationCriteriaGoalStateReached(),\n",
        "                                                                                      evaluation_criteria=utils.EvaluationCriteriaGoalCondition(),\n",
        "                                                                                      prune_func=None,\n",
        "                                                                                      log=True, log_file=None,\n",
        "                                                                                      iter_limit=defs.NA,\n",
        "                                                                                      time_limit=defs.NA,\n",
        "                                                                                      )\n",
        "print(best_plan)\n",
        "for action_id in best_plan:\n",
        "    taxi_p.apply_action(action_id)\n",
        "    print(env.render(mode='ansi'))"
      ],
      "metadata": {
        "colab": {
          "base_uri": "https://localhost:8080/"
        },
        "id": "JlLW6PfA_ciO",
        "outputId": "7c221bc7-215c-40b3-eeb2-cc01a3ea15e3"
      },
      "execution_count": null,
      "outputs": [
        {
          "output_type": "stream",
          "name": "stdout",
          "text": [
            "0\n",
            "State: 77\n",
            "+---------+\n",
            "|R: | : :\u001b[35mG\u001b[0m|\n",
            "| : | :\u001b[42m_\u001b[0m: |\n",
            "| : : : : |\n",
            "| | : | : |\n",
            "|Y| : |B: |\n",
            "+---------+\n",
            "\n",
            "\n",
            "best_first_design(node) node number 1 cur_node:<Node 77>\n",
            "InMethod best_first_design(node): explored_count:1 cur_node:<Node 77>, node_eval_time:0.000\n",
            "best_first_design(node) node number 2 cur_node:<Node 177>\n",
            "InMethod best_first_design(node): explored_count:2 cur_node:<Node 177>, node_eval_time:0.000\n",
            "best_first_design(node) node number 3 cur_node:<Node 97>\n",
            "InMethod best_first_design(node): explored_count:3 cur_node:<Node 97>, node_eval_time:0.000\n",
            "best_first_design(node) node number 4 cur_node:<Node 57>\n",
            "InMethod best_first_design(node): explored_count:4 cur_node:<Node 57>, node_eval_time:0.000\n",
            "best_first_design(node) node number 5 cur_node:<Node 277>\n",
            "InMethod best_first_design(node): explored_count:5 cur_node:<Node 277>, node_eval_time:0.000\n",
            "best_first_design(node) node number 6 cur_node:<Node 197>\n",
            "InMethod best_first_design(node): explored_count:6 cur_node:<Node 197>, node_eval_time:0.000\n",
            "best_first_design(node) node number 7 cur_node:<Node 157>\n",
            "InMethod best_first_design(node): explored_count:7 cur_node:<Node 157>, node_eval_time:0.000\n",
            "best_first_design(node) node number 8 cur_node:<Node 85>\n",
            "InMethod best_first_design(node): explored_count:8 cur_node:<Node 85>, node_eval_time:0.000\n",
            "solution is: ['2', '5']\n",
            "['2', '5']\n",
            "+---------+\n",
            "|R: | : :\u001b[35mG\u001b[0m|\n",
            "| : | :\u001b[42m_\u001b[0m: |\n",
            "| : : : : |\n",
            "| | : | : |\n",
            "|Y| : |B: |\n",
            "+---------+\n",
            "\n",
            "\n",
            "+---------+\n",
            "|R: | : :\u001b[35mG\u001b[0m|\n",
            "| : | :\u001b[42m_\u001b[0m: |\n",
            "| : : : : |\n",
            "| | : | : |\n",
            "|Y| : |B: |\n",
            "+---------+\n",
            "\n",
            "\n"
          ]
        }
      ]
    },
    {
      "cell_type": "markdown",
      "source": [
        "**And** now, let's run DFS"
      ],
      "metadata": {
        "id": "1d0Sr45BBKeo"
      }
    },
    {
      "cell_type": "code",
      "source": [
        "taxi_env = create_env()\n",
        "# create a wrapper of the environment to the search\n",
        "taxi_p = GymProblem(taxi_env, taxi_env.unwrapped.s)\n",
        "\n",
        "# perform DFS\n",
        "[best_value, best_node, best_plan, explored_count, ex_terminated] = depth_first_search(problem=taxi_p,\n",
        "                                                                                       log=True,\n",
        "                                                                                       log_file=None,\n",
        "                                                                                       iter_limit=defs.NA,\n",
        "                                                                                       time_limit=defs.NA,\n",
        "                                                                                       )\n",
        "\n",
        "print(best_plan)\n",
        "for action_id in best_plan:\n",
        "    taxi_p.apply_action(action_id)\n",
        "    print(env.render(mode='ansi'))"
      ],
      "metadata": {
        "colab": {
          "base_uri": "https://localhost:8080/"
        },
        "id": "FckxgAXG92ru",
        "outputId": "3153d9d6-c7a1-4396-e1b3-405ece5b9b86"
      },
      "execution_count": null,
      "outputs": [
        {
          "output_type": "stream",
          "name": "stdout",
          "text": [
            "0\n",
            "State: 77\n",
            "+---------+\n",
            "|R: | : :\u001b[35mG\u001b[0m|\n",
            "| : | :\u001b[42m_\u001b[0m: |\n",
            "| : : : : |\n",
            "| | : | : |\n",
            "|Y| : |B: |\n",
            "+---------+\n",
            "\n",
            "\n",
            "best_first_design(node) node number 1 cur_node:<Node 77>\n",
            "InMethod best_first_design(node): explored_count:1 cur_node:<Node 77>, node_eval_time:0.000\n",
            "best_first_design(node) node number 2 cur_node:<Node 57>\n",
            "InMethod best_first_design(node): explored_count:2 cur_node:<Node 57>, node_eval_time:0.000\n",
            "best_first_design(node) node number 3 cur_node:<Node 157>\n",
            "InMethod best_first_design(node): explored_count:3 cur_node:<Node 157>, node_eval_time:0.000\n",
            "best_first_design(node) node number 4 cur_node:<Node 257>\n",
            "InMethod best_first_design(node): explored_count:4 cur_node:<Node 257>, node_eval_time:0.000\n",
            "best_first_design(node) node number 5 cur_node:<Node 237>\n",
            "InMethod best_first_design(node): explored_count:5 cur_node:<Node 237>, node_eval_time:0.000\n",
            "best_first_design(node) node number 6 cur_node:<Node 217>\n",
            "InMethod best_first_design(node): explored_count:6 cur_node:<Node 217>, node_eval_time:0.000\n",
            "best_first_design(node) node number 7 cur_node:<Node 117>\n",
            "InMethod best_first_design(node): explored_count:7 cur_node:<Node 117>, node_eval_time:0.000\n",
            "best_first_design(node) node number 8 cur_node:<Node 17>\n",
            "InMethod best_first_design(node): explored_count:8 cur_node:<Node 17>, node_eval_time:0.000\n",
            "best_first_design(node) node number 9 cur_node:<Node 1>\n",
            "InMethod best_first_design(node): explored_count:9 cur_node:<Node 1>, node_eval_time:0.000\n",
            "best_first_design(node) node number 10 cur_node:<Node 21>\n",
            "InMethod best_first_design(node): explored_count:10 cur_node:<Node 21>, node_eval_time:0.000\n",
            "best_first_design(node) node number 11 cur_node:<Node 121>\n",
            "InMethod best_first_design(node): explored_count:11 cur_node:<Node 121>, node_eval_time:0.000\n",
            "best_first_design(node) node number 12 cur_node:<Node 221>\n",
            "InMethod best_first_design(node): explored_count:12 cur_node:<Node 221>, node_eval_time:0.000\n",
            "best_first_design(node) node number 13 cur_node:<Node 201>\n",
            "InMethod best_first_design(node): explored_count:13 cur_node:<Node 201>, node_eval_time:0.000\n",
            "best_first_design(node) node number 14 cur_node:<Node 301>\n",
            "InMethod best_first_design(node): explored_count:14 cur_node:<Node 301>, node_eval_time:0.000\n",
            "best_first_design(node) node number 15 cur_node:<Node 401>\n",
            "InMethod best_first_design(node): explored_count:15 cur_node:<Node 401>, node_eval_time:0.000\n",
            "best_first_design(node) node number 16 cur_node:<Node 241>\n",
            "InMethod best_first_design(node): explored_count:16 cur_node:<Node 241>, node_eval_time:0.000\n",
            "best_first_design(node) node number 17 cur_node:<Node 261>\n",
            "InMethod best_first_design(node): explored_count:17 cur_node:<Node 261>, node_eval_time:0.000\n",
            "best_first_design(node) node number 18 cur_node:<Node 281>\n",
            "InMethod best_first_design(node): explored_count:18 cur_node:<Node 281>, node_eval_time:0.000\n",
            "best_first_design(node) node number 19 cur_node:<Node 181>\n",
            "InMethod best_first_design(node): explored_count:19 cur_node:<Node 181>, node_eval_time:0.000\n",
            "best_first_design(node) node number 20 cur_node:<Node 81>\n",
            "InMethod best_first_design(node): explored_count:20 cur_node:<Node 81>, node_eval_time:0.000\n",
            "best_first_design(node) node number 21 cur_node:<Node 61>\n",
            "InMethod best_first_design(node): explored_count:21 cur_node:<Node 61>, node_eval_time:0.000\n",
            "best_first_design(node) node number 22 cur_node:<Node 41>\n",
            "InMethod best_first_design(node): explored_count:22 cur_node:<Node 41>, node_eval_time:0.000\n",
            "best_first_design(node) node number 23 cur_node:<Node 381>\n",
            "InMethod best_first_design(node): explored_count:23 cur_node:<Node 381>, node_eval_time:0.000\n",
            "best_first_design(node) node number 24 cur_node:<Node 481>\n",
            "InMethod best_first_design(node): explored_count:24 cur_node:<Node 481>, node_eval_time:0.000\n",
            "best_first_design(node) node number 25 cur_node:<Node 461>\n",
            "InMethod best_first_design(node): explored_count:25 cur_node:<Node 461>, node_eval_time:0.000\n",
            "best_first_design(node) node number 26 cur_node:<Node 161>\n",
            "InMethod best_first_design(node): explored_count:26 cur_node:<Node 161>, node_eval_time:0.000\n",
            "best_first_design(node) node number 27 cur_node:<Node 361>\n",
            "InMethod best_first_design(node): explored_count:27 cur_node:<Node 361>, node_eval_time:0.000\n",
            "best_first_design(node) node number 28 cur_node:<Node 141>\n",
            "InMethod best_first_design(node): explored_count:28 cur_node:<Node 141>, node_eval_time:0.000\n",
            "best_first_design(node) node number 29 cur_node:<Node 341>\n",
            "InMethod best_first_design(node): explored_count:29 cur_node:<Node 341>, node_eval_time:0.000\n",
            "best_first_design(node) node number 30 cur_node:<Node 441>\n",
            "InMethod best_first_design(node): explored_count:30 cur_node:<Node 441>, node_eval_time:0.000\n",
            "best_first_design(node) node number 31 cur_node:<Node 421>\n",
            "InMethod best_first_design(node): explored_count:31 cur_node:<Node 421>, node_eval_time:0.000\n",
            "best_first_design(node) node number 32 cur_node:<Node 321>\n",
            "InMethod best_first_design(node): explored_count:32 cur_node:<Node 321>, node_eval_time:0.000\n",
            "best_first_design(node) node number 33 cur_node:<Node 101>\n",
            "InMethod best_first_design(node): explored_count:33 cur_node:<Node 101>, node_eval_time:0.000\n",
            "best_first_design(node) node number 34 cur_node:<Node 37>\n",
            "InMethod best_first_design(node): explored_count:34 cur_node:<Node 37>, node_eval_time:0.000\n",
            "best_first_design(node) node number 35 cur_node:<Node 317>\n",
            "InMethod best_first_design(node): explored_count:35 cur_node:<Node 317>, node_eval_time:0.000\n",
            "best_first_design(node) node number 36 cur_node:<Node 417>\n",
            "InMethod best_first_design(node): explored_count:36 cur_node:<Node 417>, node_eval_time:0.000\n",
            "best_first_design(node) node number 37 cur_node:<Node 409>\n",
            "InMethod best_first_design(node): explored_count:37 cur_node:<Node 409>, node_eval_time:0.000\n",
            "best_first_design(node) node number 38 cur_node:<Node 309>\n",
            "InMethod best_first_design(node): explored_count:38 cur_node:<Node 309>, node_eval_time:0.000\n",
            "best_first_design(node) node number 39 cur_node:<Node 209>\n",
            "InMethod best_first_design(node): explored_count:39 cur_node:<Node 209>, node_eval_time:0.000\n",
            "best_first_design(node) node number 40 cur_node:<Node 229>\n",
            "InMethod best_first_design(node): explored_count:40 cur_node:<Node 229>, node_eval_time:0.000\n",
            "best_first_design(node) node number 41 cur_node:<Node 249>\n",
            "InMethod best_first_design(node): explored_count:41 cur_node:<Node 249>, node_eval_time:0.000\n",
            "best_first_design(node) node number 42 cur_node:<Node 269>\n",
            "InMethod best_first_design(node): explored_count:42 cur_node:<Node 269>, node_eval_time:0.000\n",
            "best_first_design(node) node number 43 cur_node:<Node 289>\n",
            "InMethod best_first_design(node): explored_count:43 cur_node:<Node 289>, node_eval_time:0.000\n",
            "best_first_design(node) node number 44 cur_node:<Node 189>\n",
            "InMethod best_first_design(node): explored_count:44 cur_node:<Node 189>, node_eval_time:0.000\n",
            "best_first_design(node) node number 45 cur_node:<Node 89>\n",
            "InMethod best_first_design(node): explored_count:45 cur_node:<Node 89>, node_eval_time:0.000\n",
            "best_first_design(node) node number 46 cur_node:<Node 69>\n",
            "InMethod best_first_design(node): explored_count:46 cur_node:<Node 69>, node_eval_time:0.000\n",
            "best_first_design(node) node number 47 cur_node:<Node 49>\n",
            "InMethod best_first_design(node): explored_count:47 cur_node:<Node 49>, node_eval_time:0.000\n",
            "best_first_design(node) node number 48 cur_node:<Node 389>\n",
            "InMethod best_first_design(node): explored_count:48 cur_node:<Node 389>, node_eval_time:0.000\n",
            "best_first_design(node) node number 49 cur_node:<Node 489>\n",
            "InMethod best_first_design(node): explored_count:49 cur_node:<Node 489>, node_eval_time:0.000\n",
            "best_first_design(node) node number 50 cur_node:<Node 469>\n",
            "InMethod best_first_design(node): explored_count:50 cur_node:<Node 469>, node_eval_time:0.000\n",
            "best_first_design(node) node number 51 cur_node:<Node 169>\n",
            "InMethod best_first_design(node): explored_count:51 cur_node:<Node 169>, node_eval_time:0.000\n",
            "best_first_design(node) node number 52 cur_node:<Node 369>\n",
            "InMethod best_first_design(node): explored_count:52 cur_node:<Node 369>, node_eval_time:0.000\n",
            "best_first_design(node) node number 53 cur_node:<Node 149>\n",
            "InMethod best_first_design(node): explored_count:53 cur_node:<Node 149>, node_eval_time:0.000\n",
            "best_first_design(node) node number 54 cur_node:<Node 349>\n",
            "InMethod best_first_design(node): explored_count:54 cur_node:<Node 349>, node_eval_time:0.000\n",
            "best_first_design(node) node number 55 cur_node:<Node 449>\n",
            "InMethod best_first_design(node): explored_count:55 cur_node:<Node 449>, node_eval_time:0.000\n",
            "best_first_design(node) node number 56 cur_node:<Node 429>\n",
            "InMethod best_first_design(node): explored_count:56 cur_node:<Node 429>, node_eval_time:0.000\n",
            "best_first_design(node) node number 57 cur_node:<Node 129>\n",
            "InMethod best_first_design(node): explored_count:57 cur_node:<Node 129>, node_eval_time:0.000\n",
            "best_first_design(node) node number 58 cur_node:<Node 29>\n",
            "InMethod best_first_design(node): explored_count:58 cur_node:<Node 29>, node_eval_time:0.000\n",
            "best_first_design(node) node number 59 cur_node:<Node 9>\n",
            "InMethod best_first_design(node): explored_count:59 cur_node:<Node 9>, node_eval_time:0.000\n",
            "best_first_design(node) node number 60 cur_node:<Node 329>\n",
            "InMethod best_first_design(node): explored_count:60 cur_node:<Node 329>, node_eval_time:0.000\n",
            "best_first_design(node) node number 61 cur_node:<Node 109>\n",
            "InMethod best_first_design(node): explored_count:61 cur_node:<Node 109>, node_eval_time:0.000\n",
            "best_first_design(node) node number 62 cur_node:<Node 137>\n",
            "InMethod best_first_design(node): explored_count:62 cur_node:<Node 137>, node_eval_time:0.000\n",
            "best_first_design(node) node number 63 cur_node:<Node 337>\n",
            "InMethod best_first_design(node): explored_count:63 cur_node:<Node 337>, node_eval_time:0.000\n",
            "best_first_design(node) node number 64 cur_node:<Node 437>\n",
            "InMethod best_first_design(node): explored_count:64 cur_node:<Node 437>, node_eval_time:0.000\n",
            "best_first_design(node) node number 65 cur_node:<Node 457>\n",
            "InMethod best_first_design(node): explored_count:65 cur_node:<Node 457>, node_eval_time:0.000\n",
            "best_first_design(node) node number 66 cur_node:<Node 277>\n",
            "InMethod best_first_design(node): explored_count:66 cur_node:<Node 277>, node_eval_time:0.000\n",
            "best_first_design(node) node number 67 cur_node:<Node 297>\n",
            "InMethod best_first_design(node): explored_count:67 cur_node:<Node 297>, node_eval_time:0.000\n",
            "best_first_design(node) node number 68 cur_node:<Node 197>\n",
            "InMethod best_first_design(node): explored_count:68 cur_node:<Node 197>, node_eval_time:0.000\n",
            "best_first_design(node) node number 69 cur_node:<Node 397>\n",
            "InMethod best_first_design(node): explored_count:69 cur_node:<Node 397>, node_eval_time:0.000\n",
            "best_first_design(node) node number 70 cur_node:<Node 497>\n",
            "InMethod best_first_design(node): explored_count:70 cur_node:<Node 497>, node_eval_time:0.000\n",
            "best_first_design(node) node number 71 cur_node:<Node 477>\n",
            "InMethod best_first_design(node): explored_count:71 cur_node:<Node 477>, node_eval_time:0.000\n",
            "best_first_design(node) node number 72 cur_node:<Node 473>\n",
            "InMethod best_first_design(node): explored_count:72 cur_node:<Node 473>, node_eval_time:0.000\n",
            "best_first_design(node) node number 73 cur_node:<Node 493>\n",
            "InMethod best_first_design(node): explored_count:73 cur_node:<Node 493>, node_eval_time:0.000\n",
            "best_first_design(node) node number 74 cur_node:<Node 393>\n",
            "InMethod best_first_design(node): explored_count:74 cur_node:<Node 393>, node_eval_time:0.000\n",
            "best_first_design(node) node number 75 cur_node:<Node 293>\n",
            "InMethod best_first_design(node): explored_count:75 cur_node:<Node 293>, node_eval_time:0.000\n",
            "best_first_design(node) node number 76 cur_node:<Node 273>\n",
            "InMethod best_first_design(node): explored_count:76 cur_node:<Node 273>, node_eval_time:0.000\n",
            "best_first_design(node) node number 77 cur_node:<Node 253>\n",
            "InMethod best_first_design(node): explored_count:77 cur_node:<Node 253>, node_eval_time:0.000\n",
            "best_first_design(node) node number 78 cur_node:<Node 233>\n",
            "InMethod best_first_design(node): explored_count:78 cur_node:<Node 233>, node_eval_time:0.000\n",
            "best_first_design(node) node number 79 cur_node:<Node 213>\n",
            "InMethod best_first_design(node): explored_count:79 cur_node:<Node 213>, node_eval_time:0.000\n",
            "best_first_design(node) node number 80 cur_node:<Node 113>\n",
            "InMethod best_first_design(node): explored_count:80 cur_node:<Node 113>, node_eval_time:0.000\n",
            "best_first_design(node) node number 81 cur_node:<Node 13>\n",
            "InMethod best_first_design(node): explored_count:81 cur_node:<Node 13>, node_eval_time:0.000\n",
            "best_first_design(node) node number 82 cur_node:<Node 33>\n",
            "InMethod best_first_design(node): explored_count:82 cur_node:<Node 33>, node_eval_time:0.000\n",
            "best_first_design(node) node number 83 cur_node:<Node 313>\n",
            "InMethod best_first_design(node): explored_count:83 cur_node:<Node 313>, node_eval_time:0.000\n",
            "best_first_design(node) node number 84 cur_node:<Node 413>\n",
            "InMethod best_first_design(node): explored_count:84 cur_node:<Node 413>, node_eval_time:0.000\n",
            "best_first_design(node) node number 85 cur_node:<Node 133>\n",
            "InMethod best_first_design(node): explored_count:85 cur_node:<Node 133>, node_eval_time:0.000\n",
            "best_first_design(node) node number 86 cur_node:<Node 333>\n",
            "InMethod best_first_design(node): explored_count:86 cur_node:<Node 333>, node_eval_time:0.000\n",
            "best_first_design(node) node number 87 cur_node:<Node 433>\n",
            "InMethod best_first_design(node): explored_count:87 cur_node:<Node 433>, node_eval_time:0.000\n",
            "best_first_design(node) node number 88 cur_node:<Node 453>\n",
            "InMethod best_first_design(node): explored_count:88 cur_node:<Node 453>, node_eval_time:0.000\n",
            "best_first_design(node) node number 89 cur_node:<Node 153>\n",
            "InMethod best_first_design(node): explored_count:89 cur_node:<Node 153>, node_eval_time:0.000\n",
            "best_first_design(node) node number 90 cur_node:<Node 53>\n",
            "InMethod best_first_design(node): explored_count:90 cur_node:<Node 53>, node_eval_time:0.000\n",
            "best_first_design(node) node number 91 cur_node:<Node 73>\n",
            "InMethod best_first_design(node): explored_count:91 cur_node:<Node 73>, node_eval_time:0.000\n",
            "best_first_design(node) node number 92 cur_node:<Node 93>\n",
            "InMethod best_first_design(node): explored_count:92 cur_node:<Node 93>, node_eval_time:0.000\n",
            "best_first_design(node) node number 93 cur_node:<Node 353>\n",
            "InMethod best_first_design(node): explored_count:93 cur_node:<Node 353>, node_eval_time:0.000\n",
            "best_first_design(node) node number 94 cur_node:<Node 173>\n",
            "InMethod best_first_design(node): explored_count:94 cur_node:<Node 173>, node_eval_time:0.000\n",
            "best_first_design(node) node number 95 cur_node:<Node 193>\n",
            "InMethod best_first_design(node): explored_count:95 cur_node:<Node 193>, node_eval_time:0.000\n",
            "best_first_design(node) node number 96 cur_node:<Node 373>\n",
            "InMethod best_first_design(node): explored_count:96 cur_node:<Node 373>, node_eval_time:0.000\n",
            "best_first_design(node) node number 97 cur_node:<Node 377>\n",
            "InMethod best_first_design(node): explored_count:97 cur_node:<Node 377>, node_eval_time:0.000\n",
            "best_first_design(node) node number 98 cur_node:<Node 357>\n",
            "InMethod best_first_design(node): explored_count:98 cur_node:<Node 357>, node_eval_time:0.000\n",
            "best_first_design(node) node number 99 cur_node:<Node 97>\n",
            "InMethod best_first_design(node): explored_count:99 cur_node:<Node 97>, node_eval_time:0.000\n",
            "best_first_design(node) node number 100 cur_node:<Node 85>\n",
            "InMethod best_first_design(node): explored_count:100 cur_node:<Node 85>, node_eval_time:0.000\n",
            "solution is: ['2', '5']\n",
            "['2', '5']\n",
            "+---------+\n",
            "|R: | : :\u001b[35mG\u001b[0m|\n",
            "| : | :\u001b[42m_\u001b[0m: |\n",
            "| : : : : |\n",
            "| | : | : |\n",
            "|Y| : |B: |\n",
            "+---------+\n",
            "\n",
            "\n",
            "+---------+\n",
            "|R: | : :\u001b[35mG\u001b[0m|\n",
            "| : | :\u001b[42m_\u001b[0m: |\n",
            "| : : : : |\n",
            "| | : | : |\n",
            "|Y| : |B: |\n",
            "+---------+\n",
            "\n",
            "\n"
          ]
        }
      ]
    },
    {
      "cell_type": "markdown",
      "source": [
        "and now let's run DFS-L"
      ],
      "metadata": {
        "id": "sATJE1x_7fO6"
      }
    },
    {
      "cell_type": "code",
      "source": [
        "taxi_env = create_env()\n",
        "# create a wrapper of the environment to the search\n",
        "taxi_p = GymProblem(taxi_env, taxi_env.unwrapped.s)\n",
        "\n",
        "# perform DFS\n",
        "[best_value, best_node, best_plan, explored_count, ex_terminated] = depth_first_search_l(problem=taxi_p,\n",
        "                                                                                       max_depth=2,\n",
        "                                                                                       log=True,\n",
        "                                                                                       log_file=None,\n",
        "                                                                                       iter_limit=defs.NA,\n",
        "                                                                                       time_limit=defs.NA,\n",
        "                                                                                       )\n",
        "\n",
        "print(best_plan)\n",
        "for action_id in best_plan:\n",
        "    taxi_p.apply_action(action_id)\n",
        "    print(env.render(mode='ansi'))"
      ],
      "metadata": {
        "colab": {
          "base_uri": "https://localhost:8080/"
        },
        "id": "MpXQvI5J7bfR",
        "outputId": "889c213b-ee28-4a1f-bb4f-cf025be30cdc"
      },
      "execution_count": null,
      "outputs": [
        {
          "output_type": "stream",
          "name": "stdout",
          "text": [
            "0\n",
            "State: 77\n",
            "+---------+\n",
            "|R: | : :\u001b[35mG\u001b[0m|\n",
            "| : | :\u001b[42m_\u001b[0m: |\n",
            "| : : : : |\n",
            "| | : | : |\n",
            "|Y| : |B: |\n",
            "+---------+\n",
            "\n",
            "\n",
            "best_first_design(node) node number 1 cur_node:<Node 77>\n",
            "InMethod best_first_design(node): explored_count:1 cur_node:<Node 77>, node_eval_time:0.000\n",
            "best_first_design(node) node number 2 cur_node:<Node 57>\n",
            "InMethod best_first_design(node): explored_count:2 cur_node:<Node 57>, node_eval_time:0.000\n",
            "best_first_design(node) node number 3 cur_node:<Node 97>\n",
            "InMethod best_first_design(node): explored_count:3 cur_node:<Node 97>, node_eval_time:0.000\n",
            "best_first_design(node) node number 4 cur_node:<Node 177>\n",
            "InMethod best_first_design(node): explored_count:4 cur_node:<Node 177>, node_eval_time:0.000\n",
            "solution is: []\n",
            "[]\n"
          ]
        }
      ]
    },
    {
      "cell_type": "markdown",
      "source": [
        "Finally, let's see how A-Star works on the same problem (with a ridiculously simple heuristic that gives 0 to terminal nodes and 1 to all other nodes):"
      ],
      "metadata": {
        "id": "qkX5s0O2Brzc"
      }
    },
    {
      "cell_type": "code",
      "source": [
        "taxi_env = create_env()\n",
        "\n",
        "# create a wrapper of the environment to the search\n",
        "taxi_p = GymProblem(taxi_env, taxi_env.unwrapped.s)\n",
        "\n",
        "# perform A*\n",
        "[best_value, best_node, best_plan, explored_count, ex_terminated] = best_first_search(problem=taxi_p,\n",
        "                                                                                      frontier=utils.PriorityQueue(heuristic.goal_heuristic),\n",
        "                                                                                      closed_list=utils.ClosedListOfKeys(),\n",
        "                                                                                      termination_criteria=utils.TerminationCriteriaGoalStateReached(),\n",
        "                                                                                      evaluation_criteria=utils.EvaluationCriteriaGoalCondition(),\n",
        "                                                                                      prune_func=None,\n",
        "                                                                                      log=True, \n",
        "                                                                                      log_file=None,\n",
        "                                                                                      iter_limit=defs.NA,\n",
        "                                                                                      time_limit=defs.NA,\n",
        "                                                                                      )\n",
        "\n",
        "print(best_plan)\n",
        "for action_id in best_plan:\n",
        "    taxi_p.apply_action(action_id)\n",
        "    print(env.render(mode='ansi'))"
      ],
      "metadata": {
        "id": "7Pk-Gvov6hue",
        "colab": {
          "base_uri": "https://localhost:8080/"
        },
        "outputId": "4ec40c27-5cc9-4196-fe78-5cca66dc5935"
      },
      "execution_count": null,
      "outputs": [
        {
          "output_type": "stream",
          "name": "stdout",
          "text": [
            "0\n",
            "State: 77\n",
            "+---------+\n",
            "|R: | : :\u001b[35mG\u001b[0m|\n",
            "| : | :\u001b[42m_\u001b[0m: |\n",
            "| : : : : |\n",
            "| | : | : |\n",
            "|Y| : |B: |\n",
            "+---------+\n",
            "\n",
            "\n",
            "best_first_design(node) node number 1 cur_node:<Node 77>\n",
            "InMethod best_first_design(node): explored_count:1 cur_node:<Node 77>, node_eval_time:0.000\n",
            "best_first_design(node) node number 2 cur_node:<Node 57>\n",
            "InMethod best_first_design(node): explored_count:2 cur_node:<Node 57>, node_eval_time:0.000\n",
            "best_first_design(node) node number 3 cur_node:<Node 97>\n",
            "InMethod best_first_design(node): explored_count:3 cur_node:<Node 97>, node_eval_time:0.000\n",
            "best_first_design(node) node number 4 cur_node:<Node 85>\n",
            "InMethod best_first_design(node): explored_count:4 cur_node:<Node 85>, node_eval_time:0.000\n",
            "solution is: ['2', '5']\n",
            "['2', '5']\n",
            "+---------+\n",
            "|R: | : :\u001b[35mG\u001b[0m|\n",
            "| : | :\u001b[42m_\u001b[0m: |\n",
            "| : : : : |\n",
            "| | : | : |\n",
            "|Y| : |B: |\n",
            "+---------+\n",
            "\n",
            "\n",
            "+---------+\n",
            "|R: | : :\u001b[35mG\u001b[0m|\n",
            "| : | :\u001b[42m_\u001b[0m: |\n",
            "| : : : : |\n",
            "| | : | : |\n",
            "|Y| : |B: |\n",
            "+---------+\n",
            "\n",
            "\n"
          ]
        }
      ]
    },
    {
      "cell_type": "markdown",
      "source": [
        "Now it's your time to suggest new algorithms.."
      ],
      "metadata": {
        "id": "tauuB-SKD2Eq"
      }
    },
    {
      "cell_type": "code",
      "source": [],
      "metadata": {
        "id": "iurEzoTxD8aW"
      },
      "execution_count": null,
      "outputs": []
    }
  ]
}